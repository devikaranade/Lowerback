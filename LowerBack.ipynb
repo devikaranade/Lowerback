{
  "nbformat": 4,
  "nbformat_minor": 0,
  "metadata": {
    "colab": {
      "name": "LowerBack.ipynb",
      "provenance": [],
      "collapsed_sections": []
    },
    "kernelspec": {
      "name": "python3",
      "display_name": "Python 3"
    },
    "accelerator": "GPU"
  },
  "cells": [
    {
      "cell_type": "code",
      "metadata": {
        "id": "FiVQqn4eE5pB"
      },
      "source": [
        "import pandas as pd\n",
        "import numpy as np\n",
        "import matplotlib.pyplot as plt"
      ],
      "execution_count": null,
      "outputs": []
    },
    {
      "cell_type": "code",
      "metadata": {
        "id": "Em65oPVhk7cC"
      },
      "source": [
        "import seaborn as sns\n",
        "\n",
        "# plot stylings\n",
        "plt.style.use('fivethirtyeight')\n",
        "%matplotlib inline\n",
        "\n",
        "# do not display warnings in notebook \n",
        "import warnings\n",
        "warnings.filterwarnings('ignore')"
      ],
      "execution_count": null,
      "outputs": []
    },
    {
      "cell_type": "code",
      "metadata": {
        "id": "XdLvgyX4ITQ2"
      },
      "source": [
        "from google.colab import drive"
      ],
      "execution_count": null,
      "outputs": []
    },
    {
      "cell_type": "code",
      "metadata": {
        "id": "fupdBfhSIkkG",
        "colab": {
          "base_uri": "https://localhost:8080/"
        },
        "outputId": "0806196b-ce12-48e1-8e72-1bb5952d6278"
      },
      "source": [
        "drive.mount('/content/gdrive')"
      ],
      "execution_count": null,
      "outputs": [
        {
          "output_type": "stream",
          "name": "stdout",
          "text": [
            "Mounted at /content/gdrive\n"
          ]
        }
      ]
    },
    {
      "cell_type": "code",
      "metadata": {
        "id": "rydShhDpIp2N",
        "colab": {
          "base_uri": "https://localhost:8080/"
        },
        "outputId": "6bc23939-4be2-43a8-bdf9-2a0896f5efb3"
      },
      "source": [
        "!ls '/content/gdrive/My Drive/Data/Dataset_spine.csv'"
      ],
      "execution_count": null,
      "outputs": [
        {
          "output_type": "stream",
          "name": "stdout",
          "text": [
            "'/content/gdrive/My Drive/Data/Dataset_spine.csv'\n"
          ]
        }
      ]
    },
    {
      "cell_type": "code",
      "metadata": {
        "id": "v-yAmvKfJC-5"
      },
      "source": [
        "data = pd.read_csv('/content/gdrive/My Drive/Data/Dataset_spine.csv')"
      ],
      "execution_count": null,
      "outputs": []
    },
    {
      "cell_type": "code",
      "metadata": {
        "id": "rQWEZEZwJOh2",
        "colab": {
          "base_uri": "https://localhost:8080/",
          "height": 255
        },
        "outputId": "68e7378b-8387-4968-dc29-9827d7b5cff1"
      },
      "source": [
        "data.head()"
      ],
      "execution_count": null,
      "outputs": [
        {
          "output_type": "execute_result",
          "data": {
            "text/html": [
              "<div>\n",
              "<style scoped>\n",
              "    .dataframe tbody tr th:only-of-type {\n",
              "        vertical-align: middle;\n",
              "    }\n",
              "\n",
              "    .dataframe tbody tr th {\n",
              "        vertical-align: top;\n",
              "    }\n",
              "\n",
              "    .dataframe thead th {\n",
              "        text-align: right;\n",
              "    }\n",
              "</style>\n",
              "<table border=\"1\" class=\"dataframe\">\n",
              "  <thead>\n",
              "    <tr style=\"text-align: right;\">\n",
              "      <th></th>\n",
              "      <th>Col1</th>\n",
              "      <th>Col2</th>\n",
              "      <th>Col3</th>\n",
              "      <th>Col4</th>\n",
              "      <th>Col5</th>\n",
              "      <th>Col6</th>\n",
              "      <th>Col7</th>\n",
              "      <th>Col8</th>\n",
              "      <th>Col9</th>\n",
              "      <th>Col10</th>\n",
              "      <th>Col11</th>\n",
              "      <th>Col12</th>\n",
              "      <th>Class_att</th>\n",
              "      <th>Unnamed: 13</th>\n",
              "    </tr>\n",
              "  </thead>\n",
              "  <tbody>\n",
              "    <tr>\n",
              "      <th>0</th>\n",
              "      <td>63.027818</td>\n",
              "      <td>22.552586</td>\n",
              "      <td>39.609117</td>\n",
              "      <td>40.475232</td>\n",
              "      <td>98.672917</td>\n",
              "      <td>-0.254400</td>\n",
              "      <td>0.744503</td>\n",
              "      <td>12.5661</td>\n",
              "      <td>14.5386</td>\n",
              "      <td>15.30468</td>\n",
              "      <td>-28.658501</td>\n",
              "      <td>43.5123</td>\n",
              "      <td>Abnormal</td>\n",
              "      <td>NaN</td>\n",
              "    </tr>\n",
              "    <tr>\n",
              "      <th>1</th>\n",
              "      <td>39.056951</td>\n",
              "      <td>10.060991</td>\n",
              "      <td>25.015378</td>\n",
              "      <td>28.995960</td>\n",
              "      <td>114.405425</td>\n",
              "      <td>4.564259</td>\n",
              "      <td>0.415186</td>\n",
              "      <td>12.8874</td>\n",
              "      <td>17.5323</td>\n",
              "      <td>16.78486</td>\n",
              "      <td>-25.530607</td>\n",
              "      <td>16.1102</td>\n",
              "      <td>Abnormal</td>\n",
              "      <td>NaN</td>\n",
              "    </tr>\n",
              "    <tr>\n",
              "      <th>2</th>\n",
              "      <td>68.832021</td>\n",
              "      <td>22.218482</td>\n",
              "      <td>50.092194</td>\n",
              "      <td>46.613539</td>\n",
              "      <td>105.985135</td>\n",
              "      <td>-3.530317</td>\n",
              "      <td>0.474889</td>\n",
              "      <td>26.8343</td>\n",
              "      <td>17.4861</td>\n",
              "      <td>16.65897</td>\n",
              "      <td>-29.031888</td>\n",
              "      <td>19.2221</td>\n",
              "      <td>Abnormal</td>\n",
              "      <td>Prediction is done by using binary classificat...</td>\n",
              "    </tr>\n",
              "    <tr>\n",
              "      <th>3</th>\n",
              "      <td>69.297008</td>\n",
              "      <td>24.652878</td>\n",
              "      <td>44.311238</td>\n",
              "      <td>44.644130</td>\n",
              "      <td>101.868495</td>\n",
              "      <td>11.211523</td>\n",
              "      <td>0.369345</td>\n",
              "      <td>23.5603</td>\n",
              "      <td>12.7074</td>\n",
              "      <td>11.42447</td>\n",
              "      <td>-30.470246</td>\n",
              "      <td>18.8329</td>\n",
              "      <td>Abnormal</td>\n",
              "      <td>NaN</td>\n",
              "    </tr>\n",
              "    <tr>\n",
              "      <th>4</th>\n",
              "      <td>49.712859</td>\n",
              "      <td>9.652075</td>\n",
              "      <td>28.317406</td>\n",
              "      <td>40.060784</td>\n",
              "      <td>108.168725</td>\n",
              "      <td>7.918501</td>\n",
              "      <td>0.543360</td>\n",
              "      <td>35.4940</td>\n",
              "      <td>15.9546</td>\n",
              "      <td>8.87237</td>\n",
              "      <td>-16.378376</td>\n",
              "      <td>24.9171</td>\n",
              "      <td>Abnormal</td>\n",
              "      <td>NaN</td>\n",
              "    </tr>\n",
              "  </tbody>\n",
              "</table>\n",
              "</div>"
            ],
            "text/plain": [
              "        Col1  ...                                        Unnamed: 13\n",
              "0  63.027818  ...                                                NaN\n",
              "1  39.056951  ...                                                NaN\n",
              "2  68.832021  ...  Prediction is done by using binary classificat...\n",
              "3  69.297008  ...                                                NaN\n",
              "4  49.712859  ...                                                NaN\n",
              "\n",
              "[5 rows x 14 columns]"
            ]
          },
          "metadata": {},
          "execution_count": 8
        }
      ]
    },
    {
      "cell_type": "markdown",
      "metadata": {
        "id": "UMEZg25bKf99"
      },
      "source": [
        "Prediction is done by using binary classification.\n",
        "\n",
        "Attribute1 = pelvic_incidence (numeric)\n",
        "\n",
        "Attribute2 = pelvic_tilt (numeric)\n",
        "\n",
        "Attribute3 = lumbarlordosisangle (numeric)\n",
        "\n",
        "Attribute4 = sacral_slope (numeric)\n",
        "\n",
        "Attribute5 = pelvic_radius (numeric)\n",
        "\n",
        "Attribute6 = degree_spondylolisthesis (numeric)\n",
        "\n",
        "Attribute7= pelvic_slope(numeric)\n",
        "\n",
        "Attribute8= Direct_tilt(numeric)\n",
        "\n",
        "Attribute9= thoracic_slope(numeric)\n",
        "\n",
        "Attribute10= cervical_tilt(numeric)\n",
        "\n",
        "Attribute11=sacrum_angle(numeric)\n",
        "\n",
        "Attribute12= scoliosis_slope(numeric)\n",
        "\n",
        "Attribute class {Abnormal, Normal}"
      ]
    },
    {
      "cell_type": "code",
      "metadata": {
        "id": "1RsxIW-tJTFd",
        "colab": {
          "base_uri": "https://localhost:8080/"
        },
        "outputId": "698068d6-27ed-41b9-d3d2-c927214c6e56"
      },
      "source": [
        "data.isnull().sum()"
      ],
      "execution_count": null,
      "outputs": [
        {
          "output_type": "execute_result",
          "data": {
            "text/plain": [
              "Col1             0\n",
              "Col2             0\n",
              "Col3             0\n",
              "Col4             0\n",
              "Col5             0\n",
              "Col6             0\n",
              "Col7             0\n",
              "Col8             0\n",
              "Col9             0\n",
              "Col10            0\n",
              "Col11            0\n",
              "Col12            0\n",
              "Class_att        0\n",
              "Unnamed: 13    296\n",
              "dtype: int64"
            ]
          },
          "metadata": {},
          "execution_count": 11
        }
      ]
    },
    {
      "cell_type": "code",
      "metadata": {
        "id": "ua0BhZL_JhZQ",
        "colab": {
          "base_uri": "https://localhost:8080/"
        },
        "outputId": "e1e1fd6e-5a35-4f30-c3c8-6686564d64a2"
      },
      "source": [
        "data.dtypes"
      ],
      "execution_count": null,
      "outputs": [
        {
          "output_type": "execute_result",
          "data": {
            "text/plain": [
              "Col1           float64\n",
              "Col2           float64\n",
              "Col3           float64\n",
              "Col4           float64\n",
              "Col5           float64\n",
              "Col6           float64\n",
              "Col7           float64\n",
              "Col8           float64\n",
              "Col9           float64\n",
              "Col10          float64\n",
              "Col11          float64\n",
              "Col12          float64\n",
              "Class_att       object\n",
              "Unnamed: 13     object\n",
              "dtype: object"
            ]
          },
          "metadata": {},
          "execution_count": 12
        }
      ]
    },
    {
      "cell_type": "code",
      "metadata": {
        "id": "W0tQnmQdlE5q"
      },
      "source": [
        ""
      ],
      "execution_count": null,
      "outputs": []
    },
    {
      "cell_type": "code",
      "metadata": {
        "id": "HL3XKK85Joci"
      },
      "source": [
        "attribute_names = data.iloc[5:17][\"Unnamed: 13\"]\n",
        "data1 = data.drop([\"Unnamed: 13\"], axis=1)"
      ],
      "execution_count": null,
      "outputs": []
    },
    {
      "cell_type": "code",
      "metadata": {
        "id": "JsaVVjPJLJ2c"
      },
      "source": [
        "data1.Class_att = [1 if each == \"Abnormal\" else 0 for each in data.Class_att]"
      ],
      "execution_count": null,
      "outputs": []
    },
    {
      "cell_type": "code",
      "metadata": {
        "id": "svuUSM7KLfLP",
        "colab": {
          "base_uri": "https://localhost:8080/",
          "height": 317
        },
        "outputId": "37d96385-59cf-4655-a4a8-f733663a1af7"
      },
      "source": [
        "data1.describe()"
      ],
      "execution_count": null,
      "outputs": [
        {
          "output_type": "execute_result",
          "data": {
            "text/html": [
              "<div>\n",
              "<style scoped>\n",
              "    .dataframe tbody tr th:only-of-type {\n",
              "        vertical-align: middle;\n",
              "    }\n",
              "\n",
              "    .dataframe tbody tr th {\n",
              "        vertical-align: top;\n",
              "    }\n",
              "\n",
              "    .dataframe thead th {\n",
              "        text-align: right;\n",
              "    }\n",
              "</style>\n",
              "<table border=\"1\" class=\"dataframe\">\n",
              "  <thead>\n",
              "    <tr style=\"text-align: right;\">\n",
              "      <th></th>\n",
              "      <th>Col1</th>\n",
              "      <th>Col2</th>\n",
              "      <th>Col3</th>\n",
              "      <th>Col4</th>\n",
              "      <th>Col5</th>\n",
              "      <th>Col6</th>\n",
              "      <th>Col7</th>\n",
              "      <th>Col8</th>\n",
              "      <th>Col9</th>\n",
              "      <th>Col10</th>\n",
              "      <th>Col11</th>\n",
              "      <th>Col12</th>\n",
              "      <th>Class_att</th>\n",
              "    </tr>\n",
              "  </thead>\n",
              "  <tbody>\n",
              "    <tr>\n",
              "      <th>count</th>\n",
              "      <td>310.000000</td>\n",
              "      <td>310.000000</td>\n",
              "      <td>310.000000</td>\n",
              "      <td>310.000000</td>\n",
              "      <td>310.000000</td>\n",
              "      <td>310.000000</td>\n",
              "      <td>310.000000</td>\n",
              "      <td>310.000000</td>\n",
              "      <td>310.000000</td>\n",
              "      <td>310.000000</td>\n",
              "      <td>310.000000</td>\n",
              "      <td>310.000000</td>\n",
              "      <td>310.000000</td>\n",
              "    </tr>\n",
              "    <tr>\n",
              "      <th>mean</th>\n",
              "      <td>60.496653</td>\n",
              "      <td>17.542822</td>\n",
              "      <td>51.930930</td>\n",
              "      <td>42.953831</td>\n",
              "      <td>117.920655</td>\n",
              "      <td>26.296694</td>\n",
              "      <td>0.472979</td>\n",
              "      <td>21.321526</td>\n",
              "      <td>13.064511</td>\n",
              "      <td>11.933317</td>\n",
              "      <td>-14.053139</td>\n",
              "      <td>25.645981</td>\n",
              "      <td>0.677419</td>\n",
              "    </tr>\n",
              "    <tr>\n",
              "      <th>std</th>\n",
              "      <td>17.236520</td>\n",
              "      <td>10.008330</td>\n",
              "      <td>18.554064</td>\n",
              "      <td>13.423102</td>\n",
              "      <td>13.317377</td>\n",
              "      <td>37.559027</td>\n",
              "      <td>0.285787</td>\n",
              "      <td>8.639423</td>\n",
              "      <td>3.399713</td>\n",
              "      <td>2.893265</td>\n",
              "      <td>12.225582</td>\n",
              "      <td>10.450558</td>\n",
              "      <td>0.468220</td>\n",
              "    </tr>\n",
              "    <tr>\n",
              "      <th>min</th>\n",
              "      <td>26.147921</td>\n",
              "      <td>-6.554948</td>\n",
              "      <td>14.000000</td>\n",
              "      <td>13.366931</td>\n",
              "      <td>70.082575</td>\n",
              "      <td>-11.058179</td>\n",
              "      <td>0.003220</td>\n",
              "      <td>7.027000</td>\n",
              "      <td>7.037800</td>\n",
              "      <td>7.030600</td>\n",
              "      <td>-35.287375</td>\n",
              "      <td>7.007900</td>\n",
              "      <td>0.000000</td>\n",
              "    </tr>\n",
              "    <tr>\n",
              "      <th>25%</th>\n",
              "      <td>46.430294</td>\n",
              "      <td>10.667069</td>\n",
              "      <td>37.000000</td>\n",
              "      <td>33.347122</td>\n",
              "      <td>110.709196</td>\n",
              "      <td>1.603727</td>\n",
              "      <td>0.224367</td>\n",
              "      <td>13.054400</td>\n",
              "      <td>10.417800</td>\n",
              "      <td>9.541140</td>\n",
              "      <td>-24.289522</td>\n",
              "      <td>17.189075</td>\n",
              "      <td>0.000000</td>\n",
              "    </tr>\n",
              "    <tr>\n",
              "      <th>50%</th>\n",
              "      <td>58.691038</td>\n",
              "      <td>16.357689</td>\n",
              "      <td>49.562398</td>\n",
              "      <td>42.404912</td>\n",
              "      <td>118.268178</td>\n",
              "      <td>11.767934</td>\n",
              "      <td>0.475989</td>\n",
              "      <td>21.907150</td>\n",
              "      <td>12.938450</td>\n",
              "      <td>11.953835</td>\n",
              "      <td>-14.622856</td>\n",
              "      <td>24.931950</td>\n",
              "      <td>1.000000</td>\n",
              "    </tr>\n",
              "    <tr>\n",
              "      <th>75%</th>\n",
              "      <td>72.877696</td>\n",
              "      <td>22.120395</td>\n",
              "      <td>63.000000</td>\n",
              "      <td>52.695888</td>\n",
              "      <td>125.467674</td>\n",
              "      <td>41.287352</td>\n",
              "      <td>0.704846</td>\n",
              "      <td>28.954075</td>\n",
              "      <td>15.889525</td>\n",
              "      <td>14.371810</td>\n",
              "      <td>-3.497094</td>\n",
              "      <td>33.979600</td>\n",
              "      <td>1.000000</td>\n",
              "    </tr>\n",
              "    <tr>\n",
              "      <th>max</th>\n",
              "      <td>129.834041</td>\n",
              "      <td>49.431864</td>\n",
              "      <td>125.742385</td>\n",
              "      <td>121.429566</td>\n",
              "      <td>163.071041</td>\n",
              "      <td>418.543082</td>\n",
              "      <td>0.998827</td>\n",
              "      <td>36.743900</td>\n",
              "      <td>19.324000</td>\n",
              "      <td>16.821080</td>\n",
              "      <td>6.972071</td>\n",
              "      <td>44.341200</td>\n",
              "      <td>1.000000</td>\n",
              "    </tr>\n",
              "  </tbody>\n",
              "</table>\n",
              "</div>"
            ],
            "text/plain": [
              "             Col1        Col2        Col3  ...       Col11       Col12   Class_att\n",
              "count  310.000000  310.000000  310.000000  ...  310.000000  310.000000  310.000000\n",
              "mean    60.496653   17.542822   51.930930  ...  -14.053139   25.645981    0.677419\n",
              "std     17.236520   10.008330   18.554064  ...   12.225582   10.450558    0.468220\n",
              "min     26.147921   -6.554948   14.000000  ...  -35.287375    7.007900    0.000000\n",
              "25%     46.430294   10.667069   37.000000  ...  -24.289522   17.189075    0.000000\n",
              "50%     58.691038   16.357689   49.562398  ...  -14.622856   24.931950    1.000000\n",
              "75%     72.877696   22.120395   63.000000  ...   -3.497094   33.979600    1.000000\n",
              "max    129.834041   49.431864  125.742385  ...    6.972071   44.341200    1.000000\n",
              "\n",
              "[8 rows x 13 columns]"
            ]
          },
          "metadata": {},
          "execution_count": 15
        }
      ]
    },
    {
      "cell_type": "code",
      "metadata": {
        "id": "CeL_ef8kLitt"
      },
      "source": [
        "y = data1.Class_att.values\n",
        "\n",
        "new_data = data1.drop([\"Class_att\"],axis=1)\n",
        "\n",
        "x = (new_data-np.min(new_data))/(np.max(new_data)-np.min(new_data)).values"
      ],
      "execution_count": null,
      "outputs": []
    },
    {
      "cell_type": "code",
      "metadata": {
        "id": "LXT00AYAlgHN"
      },
      "source": [
        ""
      ],
      "execution_count": null,
      "outputs": []
    },
    {
      "cell_type": "code",
      "metadata": {
        "id": "JLC3J27YMB1t"
      },
      "source": [
        "from sklearn.model_selection import train_test_split\n",
        "x_train, x_test, y_train, y_test = train_test_split(x, y, test_size=0.2, random_state = 42)"
      ],
      "execution_count": null,
      "outputs": []
    },
    {
      "cell_type": "code",
      "metadata": {
        "id": "c0hQwa71UBln"
      },
      "source": [
        ""
      ],
      "execution_count": null,
      "outputs": []
    },
    {
      "cell_type": "markdown",
      "metadata": {
        "id": "ThkXLtCNMhFD"
      },
      "source": [
        "# Using Logistic Regression"
      ]
    },
    {
      "cell_type": "code",
      "metadata": {
        "id": "FYhjcWZMMWKn",
        "colab": {
          "base_uri": "https://localhost:8080/"
        },
        "outputId": "95711777-cf84-4243-a5a1-ad6020a1f7ea"
      },
      "source": [
        "from sklearn.linear_model import LogisticRegression\n",
        "lr_model = LogisticRegression()\n",
        "\n",
        "lr_model.fit(x_train, y_train)\n",
        "\n",
        "print('Logistic Regression TRAIN Accuracy: ', lr_model.score(x_train, y_train))\n",
        "print('Logistic Regression TEST Accuracy: ', lr_model.score(x_test, y_test))"
      ],
      "execution_count": null,
      "outputs": [
        {
          "output_type": "stream",
          "name": "stdout",
          "text": [
            "Logistic Regression TRAIN Accuracy:  0.7620967741935484\n",
            "Logistic Regression TEST Accuracy:  0.7258064516129032\n"
          ]
        }
      ]
    },
    {
      "cell_type": "code",
      "metadata": {
        "id": "WKaKPUZcNEfP"
      },
      "source": [
        ""
      ],
      "execution_count": null,
      "outputs": []
    },
    {
      "cell_type": "markdown",
      "metadata": {
        "id": "q_brGuZWNHmh"
      },
      "source": [
        "# Using Decision Tree"
      ]
    },
    {
      "cell_type": "code",
      "metadata": {
        "id": "5ztIuB0oNJni"
      },
      "source": [
        "from sklearn.tree import DecisionTreeClassifier\n",
        "from sklearn import tree"
      ],
      "execution_count": null,
      "outputs": []
    },
    {
      "cell_type": "code",
      "metadata": {
        "id": "aLLodh4ZPwtD",
        "colab": {
          "base_uri": "https://localhost:8080/"
        },
        "outputId": "5915282b-7ed3-41b6-c53e-ba11e2deffaf"
      },
      "source": [
        "decision_tree = tree.DecisionTreeClassifier()\n",
        "decision_tree.fit(x_train, y_train)\n",
        "\n",
        "acc_decision_tree_train = decision_tree.score(x_train, y_train) * 100\n",
        "print(\"Training Accuracy: %0.3f\" % acc_decision_tree_train)\n",
        "\n",
        "acc_decision_tree_val = decision_tree.score(x_test, y_test) * 100\n",
        "print(\"Testing Accuracy: %0.3f\" % acc_decision_tree_val)"
      ],
      "execution_count": null,
      "outputs": [
        {
          "output_type": "stream",
          "name": "stdout",
          "text": [
            "Training Accuracy: 100.000\n",
            "Testing Accuracy: 80.645\n"
          ]
        }
      ]
    },
    {
      "cell_type": "code",
      "metadata": {
        "id": "Ps2bpn_KQITR"
      },
      "source": [
        ""
      ],
      "execution_count": null,
      "outputs": []
    },
    {
      "cell_type": "markdown",
      "metadata": {
        "id": "6-mCACQSQRWP"
      },
      "source": [
        "# Using Random Forest"
      ]
    },
    {
      "cell_type": "code",
      "metadata": {
        "id": "vup-e5qzQUJK"
      },
      "source": [
        "from sklearn.ensemble import RandomForestClassifier"
      ],
      "execution_count": null,
      "outputs": []
    },
    {
      "cell_type": "code",
      "metadata": {
        "id": "HrV4dpjgSVDL",
        "colab": {
          "base_uri": "https://localhost:8080/"
        },
        "outputId": "7cf525f5-49f1-4a35-e445-d4fc0359b378"
      },
      "source": [
        "rf = RandomForestClassifier(n_estimators=100, max_depth=2, random_state=0)\n",
        "rf.fit(x_train, y_train)\n",
        "\n",
        "print('Random Forest TRAIN Accuracy: ', rf.score(x_train, y_train))\n",
        "print('Random Forest TEST Accuracy: ', rf.score(x_test, y_test))"
      ],
      "execution_count": null,
      "outputs": [
        {
          "output_type": "stream",
          "name": "stdout",
          "text": [
            "Random Forest TRAIN Accuracy:  0.8629032258064516\n",
            "Random Forest TEST Accuracy:  0.6935483870967742\n"
          ]
        }
      ]
    },
    {
      "cell_type": "code",
      "metadata": {
        "id": "NqjlrZ75Stlv"
      },
      "source": [
        ""
      ],
      "execution_count": null,
      "outputs": []
    }
  ]
}